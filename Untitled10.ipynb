{
  "nbformat": 4,
  "nbformat_minor": 0,
  "metadata": {
    "colab": {
      "name": "Untitled10.ipynb",
      "version": "0.3.2",
      "provenance": []
    },
    "kernelspec": {
      "name": "python3",
      "display_name": "Python 3"
    }
  },
  "cells": [
    {
      "metadata": {
        "id": "GIoYMO-ZJyZE",
        "colab_type": "code",
        "colab": {
          "base_uri": "https://localhost:8080/",
          "height": 52
        },
        "outputId": "ebc002c2-c218-493e-cb2b-6fd2f205bfcb"
      },
      "cell_type": "code",
      "source": [
        "#Ledesma Olmos, Melissa. \n",
        "#1\n",
        "\n",
        "x=1\n",
        "\n",
        "while x<=5:\n",
        "  if x%3!=0:\n",
        "    print(x)\n",
        "  x=x+2\n",
        "  \n",
        "#realiza un ciclo while en el que captura de 2 en 2, aquellos números que no son multiplos de 3, hasta llegar al cinco. "
      ],
      "execution_count": 0,
      "outputs": [
        {
          "output_type": "stream",
          "text": [
            "1\n",
            "5\n"
          ],
          "name": "stdout"
        }
      ]
    },
    {
      "metadata": {
        "id": "-PNwRzC4MsTY",
        "colab_type": "code",
        "colab": {
          "base_uri": "https://localhost:8080/",
          "height": 382
        },
        "outputId": "f01c6cd6-5e40-4370-d187-4c58f8d0b5f2"
      },
      "cell_type": "code",
      "source": [
        "#Ledesma Olmos, Melissa\n",
        "#2\n",
        "\n",
        "import numpy as np\n",
        "import matplotlib.pyplot as plt\n",
        "\n",
        "def f(a):\n",
        "  return(-(x**2)+(3*x))\n",
        "\n",
        "lista=list(f(range(-20,20)))\n",
        "#usualmente el punto que se necesita para definir un maximo es x, no f(x)\n",
        "print(\"el máximo es \", max(lista))\n",
        "\n",
        "\n",
        "x=np.arange(-20,20)\n",
        "plt.figure(1)\n",
        "plt.plot(1)\n",
        "plt.plot(x, f(x), 'r--')"
      ],
      "execution_count": 0,
      "outputs": [
        {
          "output_type": "stream",
          "text": [
            "el máximo es  2\n"
          ],
          "name": "stdout"
        },
        {
          "output_type": "execute_result",
          "data": {
            "text/plain": [
              "[<matplotlib.lines.Line2D at 0x7f99a0657828>]"
            ]
          },
          "metadata": {
            "tags": []
          },
          "execution_count": 6
        },
        {
          "output_type": "display_data",
          "data": {
            "image/png": "[encoded data removed]",
            "text/plain": [
              "<matplotlib.figure.Figure at 0x7f99a06032b0>"
            ]
          },
          "metadata": {
            "tags": []
          }
        }
      ]
    },
    {
      "metadata": {
        "id": "qRe6SdHAPm6I",
        "colab_type": "code",
        "colab": {
          "base_uri": "https://localhost:8080/",
          "height": 74
        },
        "outputId": "42965f9b-9d0a-47c7-fd79-f70157df2a4f"
      },
      "cell_type": "code",
      "source": [
        "#Ledesma Olmos, Melissa.\n",
        "#3a.\n",
        "\n",
        "import numpy as np\n",
        "import math\n",
        "\n",
        "a=input(\"ingrese los coeficientes \")\n",
        "x=float(input(\"ingrese el valor de la variable x \"))\n",
        "\n",
        "#funcion que toma una cadena separada por comas y la convierte en una lista\n",
        "def f(a):\n",
        "#sería mejor usar split para crear una tabla\n",
        "  b=a.split(\",\", \" \")\n",
        "  #no serían necesatios los corchetes\n",
        "  return(b)\n",
        "#se llama a la funcion que convierte una cadena en una lista. la lista b, no parece ser usada despues\n",
        "b=f(a)\n",
        "\n",
        "#intento para evaluar el polinomio\n",
        "def g(a,x):\n",
        "  c=0\n",
        "  for i in range(0,len(a)+1):\n",
        "    while c<=len(a)+1:\n",
        "      x**c\n",
        "      c=c+1\n",
        "    return([x**c])\n",
        "  \n",
        "print(g(a,x))\n",
        "\n",
        "  "
      ],
      "execution_count": 1,
      "outputs": [
        {
          "output_type": "stream",
          "text": [
            "ingrese los coeficientes 0,2,5\n",
            "ingrese el valor de la variable x 4\n"
          ],
          "name": "stdout"
        }
      ]
    },
    {
      "metadata": {
        "id": "B1iqQiI3f-X7",
        "colab_type": "code",
        "colab": {
          "base_uri": "https://localhost:8080/",
          "height": 257
        },
        "outputId": "1ef24379-03c0-4ba3-9fac-e6222be20e99"
      },
      "cell_type": "code",
      "source": [
        "#Ledesma Olmos Melissa\n",
        "#3a\n",
        "\n",
        "a=tuple(input(\"ingrese 3 coeficientes \"))\n",
        "x=float(input(\"ingrese el valor de la variable x \"))\n",
        "\n",
        "a1=float(a[0])\n",
        "a2=float(a[1])\n",
        "a3=float(a[2])\n",
        "\n",
        "x1=x**0\n",
        "x2=x**1\n",
        "x3=x**2\n",
        "\n",
        "\n",
        "def f(a,x):\n",
        "  return(a*x)\n",
        "\n",
        "b=list(f(a1,x1), \"+\", f(a2,x2), \"+\", f(a3,x3))\n",
        "c=sum=(f(a1,x1),f(a2,x2),f(a3,x3))\n",
        "\n",
        "print(b)\n",
        "print(c)"
      ],
      "execution_count": 2,
      "outputs": [
        {
          "output_type": "stream",
          "text": [
            "ingrese 3 coeficientes 0,2,5\n",
            "ingrese el valor de la variable x 4\n"
          ],
          "name": "stdout"
        },
        {
          "output_type": "error",
          "ename": "ValueError",
          "evalue": "ignored",
          "traceback": [
            "\u001b[0;31m---------------------------------------------------------------------------\u001b[0m",
            "\u001b[0;31mValueError\u001b[0m                                Traceback (most recent call last)",
            "\u001b[0;32m<ipython-input-2-4b00e09e254a>\u001b[0m in \u001b[0;36m<module>\u001b[0;34m()\u001b[0m\n\u001b[1;32m      4\u001b[0m \u001b[0;34m\u001b[0m\u001b[0m\n\u001b[1;32m      5\u001b[0m \u001b[0ma1\u001b[0m\u001b[0;34m=\u001b[0m\u001b[0mfloat\u001b[0m\u001b[0;34m(\u001b[0m\u001b[0ma\u001b[0m\u001b[0;34m[\u001b[0m\u001b[0;36m0\u001b[0m\u001b[0;34m]\u001b[0m\u001b[0;34m)\u001b[0m\u001b[0;34m\u001b[0m\u001b[0m\n\u001b[0;32m----> 6\u001b[0;31m \u001b[0ma2\u001b[0m\u001b[0;34m=\u001b[0m\u001b[0mfloat\u001b[0m\u001b[0;34m(\u001b[0m\u001b[0ma\u001b[0m\u001b[0;34m[\u001b[0m\u001b[0;36m1\u001b[0m\u001b[0;34m]\u001b[0m\u001b[0;34m)\u001b[0m\u001b[0;34m\u001b[0m\u001b[0m\n\u001b[0m\u001b[1;32m      7\u001b[0m \u001b[0ma3\u001b[0m\u001b[0;34m=\u001b[0m\u001b[0mfloat\u001b[0m\u001b[0;34m(\u001b[0m\u001b[0ma\u001b[0m\u001b[0;34m[\u001b[0m\u001b[0;36m2\u001b[0m\u001b[0;34m]\u001b[0m\u001b[0;34m)\u001b[0m\u001b[0;34m\u001b[0m\u001b[0m\n\u001b[1;32m      8\u001b[0m \u001b[0;34m\u001b[0m\u001b[0m\n",
            "\u001b[0;31mValueError\u001b[0m: could not convert string to float: ','"
          ]
        }
      ]
    }
  ]
}